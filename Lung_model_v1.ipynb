{
 "cells": [
  {
   "cell_type": "code",
   "execution_count": null,
   "metadata": {
    "collapsed": false
   },
   "outputs": [],
   "source": [
    "# Imports \n",
    "\n",
    "import networkx as nx\n",
    "import matplotlib\n",
    "%matplotlib inline\n",
    "%config InlineBackend.figure_format = 'svg'\n",
    "import matplotlib.pyplot as plt\n",
    "import numpy as np"
   ]
  },
  {
   "cell_type": "code",
   "execution_count": null,
   "metadata": {
    "collapsed": true
   },
   "outputs": [],
   "source": [
    "COUNT = 'count'\n",
    "\n",
    "# Parameters\n",
    "growth_rate = 0.5\n",
    "death_rate = 0.00\n",
    "expulsion_rate = 0.0\n",
    "\n",
    "initial_load = 100\n",
    "initial_infected_node = 0\n",
    "\n",
    "time_limit = 10\n",
    "\n",
    "split_method = 'horsfield'"
   ]
  },
  {
   "cell_type": "code",
   "execution_count": null,
   "metadata": {
    "collapsed": false
   },
   "outputs": [],
   "source": [
    "# Network\n",
    "bronchial_tree = nx.Graph()\n",
    "\n",
    "# Trachea\n",
    "bronchial_tree.add_edge(0,1)\n",
    "origin = 0\n",
    "\n",
    "# MAIN (PRIMARY) BRONCHI\n",
    "bronchial_tree.add_edges_from([(1,2), (2,3), (1,4)])\n",
    "\n",
    "# LOBAR BRONCHI\n",
    "bronchial_tree.add_edges_from([(2,5), (5,6), (3,7), (3,8), (8,9), (9,10), (10,11), (4,12), (12,13), (12,14), (4,15), \n",
    "                               (15,16), (16,17)])\n",
    "\n",
    "# SEGMENTAL BRONCHI\n",
    "bronchial_tree.add_edges_from([(5,18), (6,19), (6,20), \n",
    "                               (7,21), (7,22), \n",
    "                               (8,23), (9,24), (10,25), (11,26),(11,27), \n",
    "                               (13,28), (13,29), \n",
    "                               (14,30), (14,31), \n",
    "                               (15,32), (16,33), (17,34),(17,35)])\n",
    "\n",
    "# Bronchopulmonary_segments\n",
    "terminal_nodes = [n for n in bronchial_tree.nodes() if bronchial_tree.degree(n) == 1 and n != origin]\n",
    "non_terminal_nodes = [n for n in bronchial_tree.nodes() if bronchial_tree.degree(n) != 1]\n",
    "\n",
    "# Ordered list of nodes (top to bottom)\n",
    "ordered_list = [origin]\n",
    "counter = 0\n",
    "while len(ordered_list) != len(bronchial_tree.nodes()):\n",
    "    node = ordered_list[counter]\n",
    "    neighbours = bronchial_tree.neighbors(node)\n",
    "    ordered_list += [n for n in neighbours if n not in ordered_list]\n",
    "    counter += 1\n",
    "\n",
    "# Nodes in Lobes\n",
    "lobe_nodes = dict()\n",
    "lobe_nodes['right_superior'] = range(18,21)\n",
    "lobe_nodes['right_middle'] = range(21,23)\n",
    "lobe_nodes['right_inferior'] = range(23,28)\n",
    "lobe_nodes['left_superior'] = range(28,32)\n",
    "lobe_nodes['left_inferior'] = range(32,36)\n",
    "\n",
    "# Nodes in Lungs\n",
    "lung_nodes = dict()\n",
    "lung_nodes['right'] = lobe_nodes['right_superior'] + lobe_nodes['right_middle'] + lobe_nodes['right_inferior']\n",
    "lung_nodes['left'] = lobe_nodes['left_superior'] + lobe_nodes['left_inferior']"
   ]
  },
  {
   "cell_type": "code",
   "execution_count": null,
   "metadata": {
    "collapsed": false
   },
   "outputs": [],
   "source": [
    "# POSITIONING NODES\n",
    "# Arbitrary - purely for convenience\n",
    "\n",
    "pos = dict()\n",
    "pos[0] = (5,10)\n",
    "\n",
    "pos[1] = (5,8)\n",
    "pos[2] = (4,7)\n",
    "pos[3] = (3.5,5)\n",
    "pos[4] = (6,6)\n",
    "pos[5] = (3,8)\n",
    "pos[6] = (2.75,8.5)\n",
    "pos[7] = (3,4.5)\n",
    "pos[8] = (4,4)\n",
    "pos[9] = (3.5,3)\n",
    "pos[10] = (3,2.5)\n",
    "pos[11] = (2.5,2)\n",
    "pos[12] = (7,7)\n",
    "pos[13] = (7.5,8)\n",
    "pos[14] = (8,7)\n",
    "pos[15] = (6.5,5)\n",
    "pos[16] = (7.5,4)\n",
    "pos[17] = (8,3.5)\n",
    "pos[18] = (2.5,7.5)\n",
    "pos[19] = (2.5,9)\n",
    "pos[20] = (3,9)\n",
    "pos[21] = (2,5)\n",
    "pos[22] = (2,4)\n",
    "pos[23] = (3.5,4.25)\n",
    "pos[24] = (4,2)\n",
    "pos[25] = (2.5,3.25)\n",
    "pos[26] = (1.5,1)\n",
    "pos[27] = (2.75,1)\n",
    "pos[28] = (7.25,8.5)\n",
    "pos[29] = (8,8.5)\n",
    "pos[30] = (8.25,7.25)\n",
    "pos[31] = (8.25,6.75)\n",
    "pos[32] = (7,5.5)\n",
    "pos[33] = (7.5,3)\n",
    "pos[34] = (8.5,4.25)\n",
    "pos[35] = (8.5,3)"
   ]
  },
  {
   "cell_type": "code",
   "execution_count": null,
   "metadata": {
    "collapsed": false
   },
   "outputs": [],
   "source": [
    "def print_graph(node_labels=False, edge_labels=False, save=False):\n",
    "    fig = plt.figure(figsize = (10, 10))   # an in-line figure\n",
    "    plt.gca().set_axis_off()\n",
    "\n",
    "    # nodes\n",
    "    nx.draw_networkx_nodes(bronchial_tree,pos,nodelist=non_terminal_nodes, node_size=250, node_color=\"white\")\n",
    "    nx.draw_networkx_nodes(bronchial_tree,pos,nodelist=terminal_nodes + [origin], node_size=250, node_color=\"red\")\n",
    "\n",
    "    # edges\n",
    "    nx.draw_networkx_edges(bronchial_tree,pos)\n",
    "\n",
    "    # node labels\n",
    "    if node_labels:\n",
    "        labels = dict()\n",
    "        for n in terminal_nodes + [origin]:\n",
    "            labels[n] = bronchial_tree.node[n][COUNT]\n",
    "        nx.draw_networkx_labels(bronchial_tree,pos,labels,font_family='sans-serif')\n",
    "\n",
    "    # edge labels\n",
    "#     if edge_labels:\n",
    "#         nx.draw_networkx_edge_labels(bronchial_tree, pos, edge_labels = edge_labels)\n",
    "\n",
    "    plt.axis('off')\n",
    "    plt.title('Lung')\n",
    "    plt.show()\n",
    "    if save:\n",
    "        fig.savefig(\"bronchial_tree.png\") # save as png"
   ]
  },
  {
   "cell_type": "code",
   "execution_count": null,
   "metadata": {
    "collapsed": false
   },
   "outputs": [],
   "source": [
    "def set_up():\n",
    "\n",
    "    bronchial_tree.node[initial_infected_node][COUNT] = initial_load\n",
    "    for n in range(1, len(bronchial_tree.node)):\n",
    "        bronchial_tree.node[n][COUNT] = 0\n",
    "\n",
    "    assert 1.0 >= expulsion_rate >= 0.0, \"Expulsion rate must be between 0.0 and 1.0\""
   ]
  },
  {
   "cell_type": "code",
   "execution_count": null,
   "metadata": {
    "collapsed": false
   },
   "outputs": [],
   "source": [
    "# STAHLER ORDERS\n",
    "\n",
    "order = 1.0\n",
    "\n",
    "queued_nodes = []\n",
    "for child_node, parent_node in bronchial_tree.edges(terminal_nodes):\n",
    "    bronchial_tree[child_node][parent_node]['stahler_order'] = order\n",
    "    queued_nodes.append(parent_node)\n",
    "\n",
    "# Order the queued list (highest value first)\n",
    "queued_nodes = sorted(set(queued_nodes), reverse=True)\n",
    "\n",
    "while len(queued_nodes) > 0:\n",
    "    node = queued_nodes.pop(0)\n",
    "    edges = bronchial_tree.edges(node, data=True)\n",
    "    \n",
    "    # Check that all child edges have a horsfield order (i.e. only parent is unfilled)\n",
    "    child_orders = [e[2]['stahler_order'] for e in edges if 'stahler_order' in e[2].keys()]\n",
    "    assert len(child_orders) == len(bronchial_tree.edges(node)) - 1\n",
    "    \n",
    "    if max(child_orders) ==  min(child_orders):\n",
    "        new_order = max(child_orders) + 1\n",
    "    else:\n",
    "        new_order = max(child_orders)\n",
    "    \n",
    "    parent_node = [n for n in bronchial_tree.neighbors(node) if n < node][0]\n",
    "    \n",
    "    # Set the new order on the aprent edge\n",
    "    bronchial_tree[node][parent_node]['stahler_order'] = new_order\n",
    "    # Add the parent node to the queue\n",
    "    if parent_node != origin:\n",
    "        queued_nodes.append(parent_node)\n",
    "    queued_nodes = sorted(set(queued_nodes), reverse=True)\n",
    "    "
   ]
  },
  {
   "cell_type": "code",
   "execution_count": null,
   "metadata": {
    "collapsed": false
   },
   "outputs": [],
   "source": [
    "# HORSFIELD & CUMMING\n",
    "order = 1.0\n",
    "\n",
    "queued_nodes = []\n",
    "for child_node, parent_node in bronchial_tree.edges(terminal_nodes):\n",
    "    bronchial_tree[child_node][parent_node]['horsfield_order'] = order\n",
    "    queued_nodes.append(parent_node)\n",
    "\n",
    "# Order the queued list (highest value first)\n",
    "queued_nodes = sorted(set(queued_nodes), reverse=True)\n",
    "\n",
    "while len(queued_nodes) > 0:\n",
    "    node = queued_nodes.pop(0)\n",
    "    edges = bronchial_tree.edges(node, data=True)\n",
    "    \n",
    "    # Check that all child edges have a horsfield order (i.e. only parent is unfilled)\n",
    "    child_orders = [e[2]['horsfield_order'] for e in edges if 'horsfield_order' in e[2].keys()]\n",
    "    assert len(child_orders) == len(bronchial_tree.edges(node)) - 1\n",
    "    new_order = max(child_orders) + 1\n",
    "    \n",
    "    parent_node = [n for n in bronchial_tree.neighbors(node) if n < node][0]\n",
    "    \n",
    "    # Set the new order on the aprent edge\n",
    "    bronchial_tree[node][parent_node]['horsfield_order'] = new_order\n",
    "    # Add the parent node to the queue\n",
    "    if parent_node != origin:\n",
    "        queued_nodes.append(parent_node)\n",
    "    queued_nodes = sorted(set(queued_nodes), reverse=True)"
   ]
  },
  {
   "cell_type": "code",
   "execution_count": null,
   "metadata": {
    "collapsed": true
   },
   "outputs": [],
   "source": [
    "def inhale():\n",
    "    bacteria_locations = dict()\n",
    "    final_bacteria_locations = dict()\n",
    "    for a in terminal_nodes:\n",
    "        final_bacteria_locations[a] = 0\n",
    "    \n",
    "    bacteria_locations[origin] = bronchial_tree.node[origin][COUNT]\n",
    "    adjacent_nodes = bronchial_tree.neighbors(origin)\n",
    "    \n",
    "    while len(bacteria_locations) > 0:\n",
    "        node, bacteria_count = bacteria_locations.popitem()\n",
    "        neighbours = [neighbour for neighbour in bronchial_tree.neighbors(node) if neighbour > node]\n",
    "        new_locs = split(node, neighbours, bacteria_count)\n",
    "        for a in new_locs:\n",
    "            if a in terminal_nodes:\n",
    "                final_bacteria_locations[a] = new_locs[a]\n",
    "            else:\n",
    "                bacteria_locations[a] = new_locs[a]\n",
    "    \n",
    "    bronchial_tree.node[0][COUNT] = 0\n",
    "    for l in final_bacteria_locations:\n",
    "        bronchial_tree.node[l][COUNT] += final_bacteria_locations[l]"
   ]
  },
  {
   "cell_type": "code",
   "execution_count": null,
   "metadata": {
    "collapsed": false
   },
   "outputs": [],
   "source": [
    "def split(node, neighbours, bacteria_count):\n",
    "    new_locs = dict()\n",
    "    \n",
    "    if len(neighbours) == 1:\n",
    "        new_locs[neighbours[0]] = bacteria_count\n",
    "    else:\n",
    "        if split_method == 'even':\n",
    "            split_value = split_even(len(neighbours), bacteria_count)\n",
    "        elif split_method == 'stahler':\n",
    "            split_value = split_stahler(node, neighbours, bacteria_count)\n",
    "        elif split_method == 'horsfield':\n",
    "            split_value = split_horsfield(node, neighbours, bacteria_count)\n",
    "        else:\n",
    "            raise Exception, \"Invalid split method\"\n",
    "        new_locs[neighbours[0]] = split_value[0]\n",
    "        new_locs[neighbours[1]] = split_value[1]\n",
    "    \n",
    "    return new_locs"
   ]
  },
  {
   "cell_type": "code",
   "execution_count": null,
   "metadata": {
    "collapsed": true
   },
   "outputs": [],
   "source": [
    "def split_even(num_of_neighbours, bacteria_count):\n",
    "    # TODO - cater for >2\n",
    "    assert num_of_neighbours == 2\n",
    "    if bacteria_count%2 == 0:\n",
    "        split_value = [bacteria_count/2,bacteria_count/2]\n",
    "    else:\n",
    "        choice = np.random.randint(0,2)\n",
    "        if choice:\n",
    "            split_value = [bacteria_count/2,(bacteria_count/2) + 1]\n",
    "        else:\n",
    "            split_value = [(bacteria_count/2) + 1,bacteria_count/2]\n",
    "    return split_value"
   ]
  },
  {
   "cell_type": "code",
   "execution_count": null,
   "metadata": {
    "collapsed": true
   },
   "outputs": [],
   "source": [
    "def split_random(num_of_neighbours, bacteria_count):\n",
    "    # TODO - cater for >2\n",
    "    assert num_of_neighbours == 2\n",
    "    \n",
    "    split_1 = np.random.randint(0,bacteria_count+1)\n",
    "    split_2 = bacteria_count - split_1\n",
    "    \n",
    "    return [split_1, split_2]"
   ]
  },
  {
   "cell_type": "code",
   "execution_count": null,
   "metadata": {
    "collapsed": true
   },
   "outputs": [],
   "source": [
    "def split_stahler(node, neighbours, count):\n",
    "    # TODO - cater for > 2\n",
    "    edge1 = bronchial_tree[node][neighbours[0]]\n",
    "    edge2 = bronchial_tree[node][neighbours[1]]\n",
    "    \n",
    "    total_stahler = edge1['stahler_order'] + edge2['stahler_order']\n",
    "    \n",
    "    left_branch_count = round(count * (edge1['stahler_order']/total_stahler))\n",
    "    right_branch_count = count - left_branch_count\n",
    "    \n",
    "    return [left_branch_count, right_branch_count]"
   ]
  },
  {
   "cell_type": "code",
   "execution_count": null,
   "metadata": {
    "collapsed": true
   },
   "outputs": [],
   "source": [
    "def split_horsfield(node, neighbours, count):\n",
    "    # TODO - cater for > 2\n",
    "    edge1 = bronchial_tree[node][neighbours[0]]\n",
    "    edge2 = bronchial_tree[node][neighbours[1]]\n",
    "    \n",
    "    total_horsfield = edge1['horsfield_order'] + edge2['horsfield_order']\n",
    "    \n",
    "    left_branch_count = round(count * (edge1['horsfield_order']/total_horsfield))\n",
    "    right_branch_count = count - left_branch_count\n",
    "    \n",
    "    return [left_branch_count, right_branch_count]"
   ]
  },
  {
   "cell_type": "code",
   "execution_count": null,
   "metadata": {
    "collapsed": true
   },
   "outputs": [],
   "source": [
    "def growth_death():\n",
    "    for tn in terminal_nodes:\n",
    "        count = bronchial_tree.node[tn][COUNT]\n",
    "        bronchial_tree.node[tn][COUNT] = int(round(count + (count * growth_rate) - (count * death_rate)))"
   ]
  },
  {
   "cell_type": "code",
   "execution_count": null,
   "metadata": {
    "collapsed": true
   },
   "outputs": [],
   "source": [
    "def exhale():\n",
    "    # TODO - are all exhaled?\n",
    "    expelled = 0\n",
    "    for tn in terminal_nodes:\n",
    "        expelled_from_node = int(round(bronchial_tree.node[tn][COUNT] * expulsion_rate))\n",
    "        expelled += expelled_from_node\n",
    "        bronchial_tree.node[tn][COUNT] -= expelled_from_node"
   ]
  },
  {
   "cell_type": "code",
   "execution_count": null,
   "metadata": {
    "collapsed": true
   },
   "outputs": [],
   "source": [
    "def cough():\n",
    "    pass\n",
    "    "
   ]
  },
  {
   "cell_type": "code",
   "execution_count": null,
   "metadata": {
    "collapsed": true
   },
   "outputs": [],
   "source": [
    "# Create data structures\n",
    "data = []\n",
    "\n",
    "def update_data():\n",
    "    data_at_timestep = dict()\n",
    "    for n in terminal_nodes:\n",
    "        data_at_timestep[n] = bronchial_tree.node[n][COUNT]\n",
    "    data.append(data_at_timestep)"
   ]
  },
  {
   "cell_type": "code",
   "execution_count": null,
   "metadata": {
    "collapsed": false
   },
   "outputs": [],
   "source": [
    "set_up()\n",
    "update_data()\n",
    "\n",
    "for t in range(1,time_limit+1):\n",
    "    inhale()\n",
    "    growth_death()\n",
    "    exhale()\n",
    "    update_data()\n",
    "    # print_graph()\n",
    "print_graph()"
   ]
  },
  {
   "cell_type": "code",
   "execution_count": null,
   "metadata": {
    "collapsed": false
   },
   "outputs": [],
   "source": [
    "max_y = 0\n",
    "for n in terminal_nodes:\n",
    "    data_node = []\n",
    "    for row in data:\n",
    "        data_node.append(row[n])\n",
    "    plt.plot(data_node, label=n)\n",
    "    max_y = max(max_y, max(data_node))\n",
    "plt.axis([0,time_limit,0,max_y+10])\n",
    "plt.title(\"Bronchopulmonary segments\")\n",
    "plt.legend(loc=0)\n",
    "plt.show()"
   ]
  },
  {
   "cell_type": "code",
   "execution_count": null,
   "metadata": {
    "collapsed": false
   },
   "outputs": [],
   "source": [
    "max_y = 0\n",
    "for lobe in lobe_nodes:\n",
    "    data_lobe = []\n",
    "    for row in data:\n",
    "        count = 0\n",
    "        for node in lobe_nodes[lobe]:\n",
    "            count += row[node]\n",
    "        data_lobe.append(count)\n",
    "    plt.plot(data_lobe, label=lobe)\n",
    "    max_y = max(max_y, max(data_lobe))\n",
    "plt.axis([0,time_limit,0,max_y+10])\n",
    "plt.title(\"Lobes\")\n",
    "plt.legend(loc=0)\n",
    "plt.show()"
   ]
  },
  {
   "cell_type": "code",
   "execution_count": null,
   "metadata": {
    "collapsed": false
   },
   "outputs": [],
   "source": [
    "max_y = 0\n",
    "for lobe in lobe_nodes:\n",
    "    data_lobe = []\n",
    "    for row in data:\n",
    "        count = []\n",
    "        for node in lobe_nodes[lobe]:\n",
    "            count.append(row[node])\n",
    "        data_lobe.append((sum(count) * 1.0)/len(count))\n",
    "    plt.plot(data_lobe, label=lobe)\n",
    "    max_y = max(max_y, max(data_lobe))\n",
    "plt.axis([0,time_limit,0,max_y+10])\n",
    "plt.title(\"Lobes (average per segment)\")\n",
    "plt.legend(loc=4)\n",
    "plt.show()"
   ]
  },
  {
   "cell_type": "code",
   "execution_count": null,
   "metadata": {
    "collapsed": false
   },
   "outputs": [],
   "source": [
    "max_y = 0\n",
    "for lung in lung_nodes:\n",
    "    data_lung = []\n",
    "    for row in data:\n",
    "        count = 0\n",
    "        for node in lung_nodes[lung]:\n",
    "            count += row[node]\n",
    "        data_lung.append(count)\n",
    "    plt.plot(data_lung, label=lung)\n",
    "    max_y = max(max_y, max(data_lung))\n",
    "plt.axis([0,time_limit,0,max_y+10])\n",
    "plt.title(\"Lungs\")\n",
    "plt.legend(loc=4)\n",
    "plt.show()"
   ]
  },
  {
   "cell_type": "code",
   "execution_count": null,
   "metadata": {
    "collapsed": false
   },
   "outputs": [],
   "source": [
    "max_y = 0\n",
    "for lung in lung_nodes:\n",
    "    data_lung = []\n",
    "    for row in data:\n",
    "        counts = []\n",
    "        for node in lung_nodes[lung]:\n",
    "            counts.append(row[node])\n",
    "        data_lung.append((sum(counts) * 1.0)/len(counts))\n",
    "    plt.plot(data_lung, label=lung)\n",
    "    max_y = max(max_y, max(data_lung))\n",
    "plt.axis([0,time_limit,0,max_y+10])\n",
    "plt.title(\"Lungs (average per segment)\")\n",
    "plt.legend(loc=4)\n",
    "plt.show()"
   ]
  },
  {
   "cell_type": "code",
   "execution_count": null,
   "metadata": {
    "collapsed": false
   },
   "outputs": [],
   "source": [
    "\n",
    "print ordered_list"
   ]
  },
  {
   "cell_type": "code",
   "execution_count": null,
   "metadata": {
    "collapsed": true
   },
   "outputs": [],
   "source": []
  }
 ],
 "metadata": {
  "kernelspec": {
   "display_name": "Python 2",
   "language": "python",
   "name": "python2"
  },
  "language_info": {
   "codemirror_mode": {
    "name": "ipython",
    "version": 2
   },
   "file_extension": ".py",
   "mimetype": "text/x-python",
   "name": "python",
   "nbconvert_exporter": "python",
   "pygments_lexer": "ipython2",
   "version": "2.7.10"
  }
 },
 "nbformat": 4,
 "nbformat_minor": 0
}
